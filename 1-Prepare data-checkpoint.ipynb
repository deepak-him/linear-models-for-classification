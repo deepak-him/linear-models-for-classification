{
 "cells": [
  {
   "cell_type": "markdown",
   "metadata": {},
   "source": [
    "14 columns <br>\n",
    "**SrNo**—corresponds to the record (row) number and has no effect on the output.<br>\n",
    "**CustomerId**—contains random values and has no effect on customer leaving the bank.<br>\n",
    "**LastName**—the surname of a customer has no impact on their decision to leave the bank.<br>\n",
    "**CreditScore**—can have an effect on customer churn, since a customer with a higher credit score is less likely to leave the bank. <br>\n",
    "**Location**—a customer’s location can affect their decision to leave the bank.<br>\n",
    "**Sex**—it’s interesting to explore whether gender plays a role in a customer leaving the bank.<br>\n",
    "**Age**—this is certainly relevant, since older customers are less likely to leave their bank than younger ones. <br>\n",
    "**Tenure**—refers to the number of years that the customer has been a client of the bank. Normally, older clients are more loyal and less likely to leave a bank. <br>\n",
    "**CurrBalance**—also a very good indicator of customer churn, as people with a higher balance in their accounts are less likely to leave the bank compared to those with lower balances. <br>\n",
    "**NumProducts**—refers to the number of products that a customer has purchased through the bank. <br>\n",
    "**OwnCrCard**—denotes whether or not a customer has a credit card. This column is also relevant, since people with a credit card are less likely to leave the bank. <br>\n",
    "**ActiveMember**—active customers are less likely to leave the bank. <br>\n",
    "**Salary**—as with balance, people with lower salaries are more likely to leave the bank compared to those with higher salaries. <br>\n",
    "**Exited**—whether or not the customer left the bank. <br>"
   ]
  },
  {
   "cell_type": "markdown",
   "metadata": {},
   "source": [
    "# Part 1: Prepare data"
   ]
  },
  {
   "cell_type": "markdown",
   "metadata": {},
   "source": [
    "## 1) Read data from cvs file"
   ]
  },
  {
   "cell_type": "code",
   "execution_count": 1,
   "metadata": {},
   "outputs": [
    {
     "name": "stdout",
     "output_type": "stream",
     "text": [
      "(10000, 14)\n"
     ]
    },
    {
     "data": {
      "text/html": [
       "<div>\n",
       "<style scoped>\n",
       "    .dataframe tbody tr th:only-of-type {\n",
       "        vertical-align: middle;\n",
       "    }\n",
       "\n",
       "    .dataframe tbody tr th {\n",
       "        vertical-align: top;\n",
       "    }\n",
       "\n",
       "    .dataframe thead th {\n",
       "        text-align: right;\n",
       "    }\n",
       "</style>\n",
       "<table border=\"1\" class=\"dataframe\">\n",
       "  <thead>\n",
       "    <tr style=\"text-align: right;\">\n",
       "      <th></th>\n",
       "      <th>SrNo</th>\n",
       "      <th>CustomerId</th>\n",
       "      <th>LastName</th>\n",
       "      <th>CreditScore</th>\n",
       "      <th>Location</th>\n",
       "      <th>Sex</th>\n",
       "      <th>Age</th>\n",
       "      <th>Tenure</th>\n",
       "      <th>CurrBalance</th>\n",
       "      <th>NumProducts</th>\n",
       "      <th>OwnCrCard</th>\n",
       "      <th>ActiveMember</th>\n",
       "      <th>Salary</th>\n",
       "      <th>Exited</th>\n",
       "    </tr>\n",
       "  </thead>\n",
       "  <tbody>\n",
       "    <tr>\n",
       "      <th>0</th>\n",
       "      <td>1</td>\n",
       "      <td>15634602</td>\n",
       "      <td>Hargrave</td>\n",
       "      <td>619</td>\n",
       "      <td>France</td>\n",
       "      <td>Female</td>\n",
       "      <td>42</td>\n",
       "      <td>2</td>\n",
       "      <td>0.00</td>\n",
       "      <td>1</td>\n",
       "      <td>1</td>\n",
       "      <td>1</td>\n",
       "      <td>101348.88</td>\n",
       "      <td>1</td>\n",
       "    </tr>\n",
       "    <tr>\n",
       "      <th>1</th>\n",
       "      <td>2</td>\n",
       "      <td>15647311</td>\n",
       "      <td>Hill</td>\n",
       "      <td>608</td>\n",
       "      <td>Spain</td>\n",
       "      <td>Female</td>\n",
       "      <td>41</td>\n",
       "      <td>1</td>\n",
       "      <td>83807.86</td>\n",
       "      <td>1</td>\n",
       "      <td>0</td>\n",
       "      <td>1</td>\n",
       "      <td>112542.58</td>\n",
       "      <td>0</td>\n",
       "    </tr>\n",
       "    <tr>\n",
       "      <th>2</th>\n",
       "      <td>3</td>\n",
       "      <td>15619304</td>\n",
       "      <td>Onio</td>\n",
       "      <td>502</td>\n",
       "      <td>France</td>\n",
       "      <td>Female</td>\n",
       "      <td>42</td>\n",
       "      <td>8</td>\n",
       "      <td>159660.80</td>\n",
       "      <td>3</td>\n",
       "      <td>1</td>\n",
       "      <td>0</td>\n",
       "      <td>113931.57</td>\n",
       "      <td>1</td>\n",
       "    </tr>\n",
       "    <tr>\n",
       "      <th>3</th>\n",
       "      <td>4</td>\n",
       "      <td>15701354</td>\n",
       "      <td>Boni</td>\n",
       "      <td>699</td>\n",
       "      <td>France</td>\n",
       "      <td>Female</td>\n",
       "      <td>39</td>\n",
       "      <td>1</td>\n",
       "      <td>0.00</td>\n",
       "      <td>2</td>\n",
       "      <td>0</td>\n",
       "      <td>0</td>\n",
       "      <td>93826.63</td>\n",
       "      <td>0</td>\n",
       "    </tr>\n",
       "    <tr>\n",
       "      <th>4</th>\n",
       "      <td>5</td>\n",
       "      <td>15737888</td>\n",
       "      <td>Mitchell</td>\n",
       "      <td>850</td>\n",
       "      <td>Spain</td>\n",
       "      <td>Female</td>\n",
       "      <td>43</td>\n",
       "      <td>2</td>\n",
       "      <td>125510.82</td>\n",
       "      <td>1</td>\n",
       "      <td>1</td>\n",
       "      <td>1</td>\n",
       "      <td>79084.10</td>\n",
       "      <td>0</td>\n",
       "    </tr>\n",
       "  </tbody>\n",
       "</table>\n",
       "</div>"
      ],
      "text/plain": [
       "   SrNo  CustomerId  LastName  CreditScore Location     Sex  Age  Tenure  \\\n",
       "0     1    15634602  Hargrave          619   France  Female   42       2   \n",
       "1     2    15647311      Hill          608    Spain  Female   41       1   \n",
       "2     3    15619304      Onio          502   France  Female   42       8   \n",
       "3     4    15701354      Boni          699   France  Female   39       1   \n",
       "4     5    15737888  Mitchell          850    Spain  Female   43       2   \n",
       "\n",
       "   CurrBalance  NumProducts  OwnCrCard  ActiveMember     Salary  Exited  \n",
       "0         0.00            1          1             1  101348.88       1  \n",
       "1     83807.86            1          0             1  112542.58       0  \n",
       "2    159660.80            3          1             0  113931.57       1  \n",
       "3         0.00            2          0             0   93826.63       0  \n",
       "4    125510.82            1          1             1   79084.10       0  "
      ]
     },
     "execution_count": 1,
     "metadata": {},
     "output_type": "execute_result"
    }
   ],
   "source": [
    "import pandas as pd                 \n",
    "\n",
    "dataset=pd.read_csv('../bank customer dataset.csv') \n",
    "print(dataset.shape)\n",
    "dataset.head()"
   ]
  },
  {
   "cell_type": "markdown",
   "metadata": {},
   "source": [
    "## 2) Overview the dataset\n",
    "Result: No data missing in this dataset. But some data type is categorical data."
   ]
  },
  {
   "cell_type": "code",
   "execution_count": 2,
   "metadata": {},
   "outputs": [],
   "source": [
    "# define a function to overview the dataset (total data, missing value, unique values for each feature)\n",
    "\n",
    "def dataoveriew(df, message):\n",
    "    '''\n",
    "    a function to overview the data\n",
    "    \n",
    "    Args:\n",
    "        df: the data read from cvs file;\n",
    "        message: the title for this function results.\n",
    "    \n",
    "    Returns: \n",
    "        None\n",
    "    \n",
    "    '''\n",
    "    print(f'{message}:\\n')\n",
    "    print(\"Rows:\", df.shape[0])\n",
    "    print(\"\\nNumber of features:\", df.shape[1])\n",
    "    print(\"\\nFeatures:\")\n",
    "    print(df.columns.tolist())\n",
    "    print(\"\\nMissing values:\", df.isnull().sum().values.sum())\n",
    "    print(\"\\nUnique values:\")\n",
    "    print(df.nunique())"
   ]
  },
  {
   "cell_type": "markdown",
   "metadata": {},
   "source": [
    "Display Overview of the Dataset"
   ]
  },
  {
   "cell_type": "code",
   "execution_count": 3,
   "metadata": {},
   "outputs": [
    {
     "name": "stdout",
     "output_type": "stream",
     "text": [
      "Overiew of the whole dataset:\n",
      "\n",
      "Rows: 10000\n",
      "\n",
      "Number of features: 14\n",
      "\n",
      "Features:\n",
      "['SrNo', 'CustomerId', 'LastName', 'CreditScore', 'Location', 'Sex', 'Age', 'Tenure', 'CurrBalance', 'NumProducts', 'OwnCrCard', 'ActiveMember', 'Salary', 'Exited']\n",
      "\n",
      "Missing values: 0\n",
      "\n",
      "Unique values:\n",
      "SrNo            10000\n",
      "CustomerId      10000\n",
      "LastName         2932\n",
      "CreditScore       460\n",
      "Location            3\n",
      "Sex                 2\n",
      "Age                70\n",
      "Tenure             11\n",
      "CurrBalance      6382\n",
      "NumProducts         4\n",
      "OwnCrCard           2\n",
      "ActiveMember        2\n",
      "Salary           9999\n",
      "Exited              2\n",
      "dtype: int64\n"
     ]
    }
   ],
   "source": [
    "# Write your code here"
   ]
  },
  {
   "cell_type": "markdown",
   "metadata": {},
   "source": [
    "checking datatypes and null values"
   ]
  },
  {
   "cell_type": "code",
   "execution_count": 4,
   "metadata": {},
   "outputs": [
    {
     "name": "stdout",
     "output_type": "stream",
     "text": [
      "<class 'pandas.core.frame.DataFrame'>\n",
      "RangeIndex: 10000 entries, 0 to 9999\n",
      "Data columns (total 14 columns):\n",
      " #   Column        Non-Null Count  Dtype  \n",
      "---  ------        --------------  -----  \n",
      " 0   SrNo          10000 non-null  int64  \n",
      " 1   CustomerId    10000 non-null  int64  \n",
      " 2   LastName      10000 non-null  object \n",
      " 3   CreditScore   10000 non-null  int64  \n",
      " 4   Location      10000 non-null  object \n",
      " 5   Sex           10000 non-null  object \n",
      " 6   Age           10000 non-null  int64  \n",
      " 7   Tenure        10000 non-null  int64  \n",
      " 8   CurrBalance   10000 non-null  float64\n",
      " 9   NumProducts   10000 non-null  int64  \n",
      " 10  OwnCrCard     10000 non-null  int64  \n",
      " 11  ActiveMember  10000 non-null  int64  \n",
      " 12  Salary        10000 non-null  float64\n",
      " 13  Exited        10000 non-null  int64  \n",
      "dtypes: float64(2), int64(9), object(3)\n",
      "memory usage: 1.1+ MB\n"
     ]
    }
   ],
   "source": [
    "# Write your code here"
   ]
  },
  {
   "cell_type": "markdown",
   "metadata": {},
   "source": [
    "## 3) Preprocess data: Categorical data - one hot encoding"
   ]
  },
  {
   "cell_type": "code",
   "execution_count": 5,
   "metadata": {},
   "outputs": [],
   "source": [
    "# Write your code here"
   ]
  },
  {
   "cell_type": "code",
   "execution_count": 6,
   "metadata": {},
   "outputs": [
    {
     "data": {
      "text/plain": [
       "0       0\n",
       "1       2\n",
       "2       0\n",
       "3       0\n",
       "4       2\n",
       "       ..\n",
       "9995    0\n",
       "9996    0\n",
       "9997    0\n",
       "9998    1\n",
       "9999    0\n",
       "Name: Location, Length: 10000, dtype: int32"
      ]
     },
     "execution_count": 6,
     "metadata": {},
     "output_type": "execute_result"
    }
   ],
   "source": [
    "dataset[\"Location\"] # France=0, Spain=2, Germany=1"
   ]
  },
  {
   "cell_type": "code",
   "execution_count": 7,
   "metadata": {},
   "outputs": [
    {
     "data": {
      "text/plain": [
       "0       0\n",
       "1       0\n",
       "2       0\n",
       "3       0\n",
       "4       0\n",
       "       ..\n",
       "9995    1\n",
       "9996    1\n",
       "9997    0\n",
       "9998    1\n",
       "9999    0\n",
       "Name: Sex, Length: 10000, dtype: int32"
      ]
     },
     "execution_count": 7,
     "metadata": {},
     "output_type": "execute_result"
    }
   ],
   "source": [
    "dataset[\"Sex\"]  # Female = 0;  Male = 1."
   ]
  },
  {
   "cell_type": "markdown",
   "metadata": {},
   "source": [
    "## 4) The situation of the customer in the studied dataset\n",
    "Result: In this dataset, there is a rate of 20.4% for the customer left from bank."
   ]
  },
  {
   "cell_type": "code",
   "execution_count": 8,
   "metadata": {},
   "outputs": [
    {
     "data": {
      "text/plain": [
       "0    7963\n",
       "1    2037\n",
       "Name: Exited, dtype: int64"
      ]
     },
     "execution_count": 8,
     "metadata": {},
     "output_type": "execute_result"
    }
   ],
   "source": [
    "# Write your code here"
   ]
  },
  {
   "cell_type": "code",
   "execution_count": null,
   "metadata": {},
   "outputs": [],
   "source": []
  }
 ],
 "metadata": {
  "kernelspec": {
   "display_name": "Python 3 (ipykernel)",
   "language": "python",
   "name": "python3"
  },
  "language_info": {
   "codemirror_mode": {
    "name": "ipython",
    "version": 3
   },
   "file_extension": ".py",
   "mimetype": "text/x-python",
   "name": "python",
   "nbconvert_exporter": "python",
   "pygments_lexer": "ipython3",
   "version": "3.9.12"
  }
 },
 "nbformat": 4,
 "nbformat_minor": 4
}
